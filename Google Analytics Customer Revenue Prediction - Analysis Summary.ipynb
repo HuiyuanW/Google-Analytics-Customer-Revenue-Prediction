{
 "cells": [
  {
   "cell_type": "markdown",
   "metadata": {},
   "source": [
    "# Objective: Customer Revenue Prediction\n",
    "\n",
    "The 80/20 rule has proven true for many businesses–only a small percentage of customers produce most of the revenue. As such, marketing teams are challenged to make appropriate investments in promotional strategies.\n",
    "This notebook will analyze a Google Merchandise Store (also known as GStore, where Google swag is sold) customer dataset from Kaggle competition ['Google Analytics Customer Revenue Prediction'](https://www.kaggle.com/c/ga-customer-revenue-prediction) to predict revenue per customer. \n",
    "\n",
    "### About the dataset:\n",
    "\n",
    "* Train data sample size : 903653 \n",
    "* Test data sample size : 804684 \n",
    "\n",
    "Each row in the dataset is one visit to the store. Targeted outputs are prediction of the natural log of the sum of all transactions per user.\n",
    "The data fields in the given files include > 50 columns, for the following key areas:\n",
    "\n",
    "* fullVisitorId- A unique identifier for each user of the Google Merchandise Store.\n",
    "* channelGrouping - The channel via which the user came to the Store.\n",
    "* date - The date on which the user visited the Store.\n",
    "* device - The specifications for the device used to access the Store.\n",
    "* geoNetwork - This section contains information about the geography of the user.\n",
    "* sessionId - A unique identifier for this visit to the store.\n",
    "* socialEngagementType - Engagement type, either \"Socially Engaged\" or \"Not Socially Engaged\".\n",
    "* totals - This section contains aggregate values across the session.\n",
    "* trafficSource - This section contains information about the Traffic Source from which the session originated.\n",
    "* visitId - An identifier for this session. This is part of the value usually stored as the _utmb cookie. This is only unique to the user. For a completely unique ID, you should use a combination of fullVisitorId and visitId.\n",
    "* visitNumber - The session number for this user. If this is the first session, then this is set to 1.\n",
    "* visitStartTime - The timestamp (expressed as POSIX time)."
   ]
  },
  {
   "cell_type": "markdown",
   "metadata": {},
   "source": [
    "# Data Analysis & Feature Engineering\n",
    "\n",
    "## 1. Target Dependent Variable Exploration\n",
    "* Number of unique users: 731571 \n",
    "* Number of customers that contribute to revenue: 10223, ~ 1.4%\n",
    "\n",
    "<img src = './Output/1_User-Revenue Overview.png'>"
   ]
  },
  {
   "cell_type": "markdown",
   "metadata": {},
   "source": [
    "## 2. Time-Series User Acitivity Analysis\n",
    "* Peak period of mid- to late-Aug 2016 in positive transactions, while no signicant increase in total count activity was observed (can potentially be correlated to July 2016 data that is not available)\n",
    "* Nov 2016, high user activity but low positive transactions; early Dec, positive transactions start to go up even though total count of user activity decrease (customer expection during BlackFriday, late promotion event?)\n",
    "* ~ Valentine's day 2017, high percentage of positive transactions; but total count of user activity on the low range, there is a spike on 1/24\n",
    "* April 26,2017 spike in total user acvitivity may be related to the follow-up increase of positive transactions\n",
    "\n",
    "<img src='./Output/6_transaction activity by date summary.png'>"
   ]
  },
  {
   "cell_type": "markdown",
   "metadata": {},
   "source": [
    "## 3. User Habit Analysis - Day & Time\n",
    "\n",
    "* Both user activity and positive transactions have periodic patten: more activites during some days during a week\n",
    "<img src = './Output/4_count of revenue activity_1month.png'>"
   ]
  },
  {
   "cell_type": "markdown",
   "metadata": {},
   "source": [
    "* Sunday has the highest amount of transaction completion, while Friday has the lowest number of transaction\n",
    "* Customers prefer to browse and place orders during the period of Sunday through Thursday\n",
    "<img src='./Output/7-weekday Breakdown & Revenue.png'>"
   ]
  },
  {
   "cell_type": "markdown",
   "metadata": {},
   "source": [
    "* Most customers prefer to place orders during the daytime, the highest numbers of transactions are completed between 10am-2pm, with peak at 10am-noon.\n",
    "<img src='./Output/8-visitStartTime Breakdown & Revenue.png'>"
   ]
  },
  {
   "cell_type": "markdown",
   "metadata": {},
   "source": [
    "## 4. User Habit Analysis - Source Channel\n",
    "* Referral resulted in the most of positive revnue transaction counts and highest total revenue, followed by Organic Seach and Direct\n",
    "* Organic Search and Social consitute over 60% of total user activity count\n",
    "* Display has the highest mean revenue, followed by Direct\n",
    "<img src='./Output/9-channelGrouping Breakdown & Revenue.png'>"
   ]
  },
  {
   "cell_type": "markdown",
   "metadata": {},
   "source": [
    "## 5. User Habit Analysis - Device and Platform\n",
    "* Over 70% users used computers to browse products; over 90% customers used computers to place orders\n",
    "<img src='./Output/13-device.deviceCategory Breakdown & Revenue.png'>\n",
    "\n",
    "\n",
    "* Web browser: Chrome has the highest transactions and total revenues; interestingly, firefox users contributed to the highest mean revenue\n",
    "<img src='./Output/12-device.browser Breakdown & Revenue.png'>\n",
    "\n",
    "\n",
    "* Macintosh and Windows users are the two groups contributing to the highest transactions and total revenue\n",
    "* Chrome OS and ANdroid users have relatively high mean revenue within the desktop and mobile user groups, respectively\n",
    "<img src='./Output/14-device.operatingSystem Breakdown & Revenue.png'>"
   ]
  },
  {
   "cell_type": "markdown",
   "metadata": {},
   "source": [
    "## 6. User Geography Analysis\n",
    "* North America, mostly United States, contributes to the revenue the most, followed by Canada and Venezuela\n",
    "* Africa has relatively high revenue, even though not as many visit counts as other continents; Nigeria and Kenya have the highest mean revenue\n",
    "<img src='./Output/15-geoNetwork.continent Breakdown & Revenue.png'>\n",
    "<img src='./Output/20-GeoSummary.png'>"
   ]
  },
  {
   "cell_type": "markdown",
   "metadata": {},
   "source": [
    "## 7. User Network Analysis\n",
    "* Comcastbusiness.net and comcast.net users contributed to the most revenue among the network domains; correlates to previous findings that most customers use computers to browse products and place orders\n",
    "* Verizon is on the top5 revenue sources, but not AT&T and T-mobile\n",
    "<img src='./Output/17-geoNetwork.networkDomain Breakdown & Revenue.png'>"
   ]
  },
  {
   "cell_type": "markdown",
   "metadata": {},
   "source": [
    "## 8. User page visit\n",
    "* Most users have less than 100 hits and pageviews\n",
    "* Users with less than 40 hits and pageviews contribute to the most revenues\n",
    "<img src='./Output/23-totals.hits Distribution & Revenue.png'>\n",
    "<img src='./Output/24-totals.pageviews Distribution & Revenue.png'>"
   ]
  },
  {
   "cell_type": "markdown",
   "metadata": {},
   "source": [
    "# Building Model for Revenue Prediction\n",
    "\n",
    "## Baseline Model Building (Light Gradient Boosting )\n",
    "* 18 features was used to train model, including: \n",
    "'channelGrouping', 'visitNumber', 'visitStartTime', 'device.browser', 'device.deviceCategory', 'device.isMobile', 'device.operatingSystem', 'geoNetwork.continent', 'geoNetwork.country', 'geoNetwork.networkDomain', 'geoNetwork.subContinent', 'totals.hits', 'totals.newVisits', 'totals.pageviews', 'trafficSource.medium', 'trafficSource.source', 'weekday', 'month_day'\n",
    "\n",
    "## Model Parameter Tuning \n",
    "* ~ 20 Combinations of params were tried to minimize rmse on the validation set to 1.60676,key params include:  \n",
    "    \"num_leaves\" : 31,\n",
    "    \"max_depth\" : 7,\n",
    "    \"min_data_in_leaf\": 20,\n",
    "    \"learning_rate\" : 0.07,\n",
    "    \"bagging_fraction\" : 1,\n",
    "    \"feature_fraction\" : 1\n",
    "    \n",
    "## Feature Importance Metric\n",
    "<img src='./Output/33-Feature Importance.png'>"
   ]
  }
 ],
 "metadata": {
  "kernelspec": {
   "display_name": "Python 3",
   "language": "python",
   "name": "python3"
  },
  "language_info": {
   "codemirror_mode": {
    "name": "ipython",
    "version": 3
   },
   "file_extension": ".py",
   "mimetype": "text/x-python",
   "name": "python",
   "nbconvert_exporter": "python",
   "pygments_lexer": "ipython3",
   "version": "3.6.0"
  }
 },
 "nbformat": 4,
 "nbformat_minor": 2
}
